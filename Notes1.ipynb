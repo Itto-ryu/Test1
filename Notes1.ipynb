{
  "nbformat": 4,
  "nbformat_minor": 0,
  "metadata": {
    "colab": {
      "name": "Notes1.ipynb",
      "provenance": [],
      "collapsed_sections": [],
      "authorship_tag": "ABX9TyPL7AEydaj7+jLXauWySSn4",
      "include_colab_link": true
    },
    "kernelspec": {
      "name": "python3",
      "display_name": "Python 3"
    },
    "language_info": {
      "name": "python"
    }
  },
  "cells": [
    {
      "cell_type": "markdown",
      "metadata": {
        "id": "view-in-github",
        "colab_type": "text"
      },
      "source": [
        "<a href=\"https://colab.research.google.com/github/Itto-ryu/Test1/blob/main/Notes1.ipynb\" target=\"_parent\"><img src=\"https://colab.research.google.com/assets/colab-badge.svg\" alt=\"Open In Colab\"/></a>"
      ]
    },
    {
      "cell_type": "markdown",
      "metadata": {
        "id": "jeYqtayu4wpj"
      },
      "source": [
        "###Ryu's Progam of Python"
      ]
    },
    {
      "cell_type": "code",
      "metadata": {
        "colab": {
          "base_uri": "https://localhost:8080/"
        },
        "id": "ONnf-2805IMJ",
        "outputId": "37266e51-8057-431e-f860-ffc028c580b1"
      },
      "source": [
        "if 4>2:\n",
        "  print(\"four is greater than two\")"
      ],
      "execution_count": 1,
      "outputs": [
        {
          "output_type": "stream",
          "name": "stdout",
          "text": [
            "four is greater than two\n"
          ]
        }
      ]
    },
    {
      "cell_type": "code",
      "metadata": {
        "colab": {
          "base_uri": "https://localhost:8080/"
        },
        "id": "29uAyjqH551J",
        "outputId": "d4665b5e-8579-44b2-9de7-b766cb4246b9"
      },
      "source": [
        "x=5\n",
        "y=\"john\"\n",
        "print(type(x))\n",
        "print(type(y))"
      ],
      "execution_count": 2,
      "outputs": [
        {
          "output_type": "stream",
          "name": "stdout",
          "text": [
            "<class 'int'>\n",
            "<class 'str'>\n"
          ]
        }
      ]
    },
    {
      "cell_type": "code",
      "metadata": {
        "colab": {
          "base_uri": "https://localhost:8080/"
        },
        "id": "MX-jiAJw8xFc",
        "outputId": "49ba6a1d-49da-40d0-b5f8-d7234def2139"
      },
      "source": [
        "x=\"enjoying\"\n",
        "print(\"programming is \"+x)"
      ],
      "execution_count": 3,
      "outputs": [
        {
          "output_type": "stream",
          "name": "stdout",
          "text": [
            "programming is enjoying\n"
          ]
        }
      ]
    },
    {
      "cell_type": "code",
      "metadata": {
        "colab": {
          "base_uri": "https://localhost:8080/"
        },
        "id": "hqch0cvt9Nkh",
        "outputId": "dfd3465f-264d-41b8-b25d-4f5b3a6c018b"
      },
      "source": [
        "x=\"you are\"\n",
        "y=\" stupid\"\n",
        "print(x+y)"
      ],
      "execution_count": 5,
      "outputs": [
        {
          "output_type": "stream",
          "name": "stdout",
          "text": [
            "you are stupid\n"
          ]
        }
      ]
    },
    {
      "cell_type": "code",
      "metadata": {
        "colab": {
          "base_uri": "https://localhost:8080/"
        },
        "id": "vg_873Ph9Z7U",
        "outputId": "cbfd5ed3-f69b-444f-9658-3819b4e5af38"
      },
      "source": [
        "x=25\n",
        "y=45\n",
        "print(x+y)"
      ],
      "execution_count": 6,
      "outputs": [
        {
          "output_type": "stream",
          "name": "stdout",
          "text": [
            "70\n"
          ]
        }
      ]
    },
    {
      "cell_type": "code",
      "metadata": {
        "id": "PIDdCIv8AjQM"
      },
      "source": [
        ""
      ],
      "execution_count": null,
      "outputs": []
    }
  ]
}