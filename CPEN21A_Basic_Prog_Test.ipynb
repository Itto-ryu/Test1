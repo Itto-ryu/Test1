{
  "nbformat": 4,
  "nbformat_minor": 0,
  "metadata": {
    "colab": {
      "name": "CPEN21A Basic Prog. Test.ipynb",
      "provenance": [],
      "authorship_tag": "ABX9TyNr/mC3I4Ys35WLqrltDd/r",
      "include_colab_link": true
    },
    "kernelspec": {
      "name": "python3",
      "display_name": "Python 3"
    },
    "language_info": {
      "name": "python"
    }
  },
  "cells": [
    {
      "cell_type": "markdown",
      "metadata": {
        "id": "view-in-github",
        "colab_type": "text"
      },
      "source": [
        "<a href=\"https://colab.research.google.com/github/Itto-ryu/Test1/blob/main/CPEN21A_Basic_Prog_Test.ipynb\" target=\"_parent\"><img src=\"https://colab.research.google.com/assets/colab-badge.svg\" alt=\"Open In Colab\"/></a>"
      ]
    },
    {
      "cell_type": "markdown",
      "metadata": {
        "id": "3sFV6pB5Dxjb"
      },
      "source": [
        "##Basic Python Programming"
      ]
    },
    {
      "cell_type": "code",
      "metadata": {
        "colab": {
          "base_uri": "https://localhost:8080/"
        },
        "id": "AgCyLjOsD977",
        "outputId": "a982d33f-6110-4775-dff8-f88c7aa77d21"
      },
      "source": [
        "if 6>3:\n",
        "  print(\"six is greater than three\")"
      ],
      "execution_count": 1,
      "outputs": [
        {
          "output_type": "stream",
          "name": "stdout",
          "text": [
            "six is greater than three\n"
          ]
        }
      ]
    },
    {
      "cell_type": "code",
      "metadata": {
        "colab": {
          "base_uri": "https://localhost:8080/"
        },
        "id": "cEV6TcMgEldh",
        "outputId": "52755daa-ea04-4de5-93d0-2c5233c58fda"
      },
      "source": [
        "print(\"Test yo\") #TEstTestTest"
      ],
      "execution_count": 2,
      "outputs": [
        {
          "output_type": "stream",
          "name": "stdout",
          "text": [
            "Test yo\n"
          ]
        }
      ]
    },
    {
      "cell_type": "code",
      "metadata": {
        "colab": {
          "base_uri": "https://localhost:8080/"
        },
        "id": "G8pK9ANrE-vC",
        "outputId": "12111ef7-945f-4e12-d5ee-e1452c38e13e"
      },
      "source": [
        "x=5\n",
        "y=10\n",
        "print (x)\n",
        "print(y)"
      ],
      "execution_count": 3,
      "outputs": [
        {
          "output_type": "stream",
          "name": "stdout",
          "text": [
            "5\n",
            "10\n"
          ]
        }
      ]
    },
    {
      "cell_type": "code",
      "metadata": {
        "colab": {
          "base_uri": "https://localhost:8080/"
        },
        "id": "71c8T7yEFhDp",
        "outputId": "836bd3ed-5807-4abf-eb6d-37aa60da627c"
      },
      "source": [
        "b=\"sally\"\n",
        "b=int(4)\n",
        "print(b)\n"
      ],
      "execution_count": 4,
      "outputs": [
        {
          "output_type": "stream",
          "name": "stdout",
          "text": [
            "4\n"
          ]
        }
      ]
    },
    {
      "cell_type": "code",
      "metadata": {
        "colab": {
          "base_uri": "https://localhost:8080/"
        },
        "id": "U5QpuRtlGCsB",
        "outputId": "ea9dcd76-9d3e-4ffd-d968-bd2e12344298"
      },
      "source": [
        "b=\"sally\"\n",
        "b=float(4)\n",
        "print(b)"
      ],
      "execution_count": 6,
      "outputs": [
        {
          "output_type": "stream",
          "name": "stdout",
          "text": [
            "4.0\n"
          ]
        }
      ]
    },
    {
      "cell_type": "code",
      "metadata": {
        "colab": {
          "base_uri": "https://localhost:8080/"
        },
        "id": "ahxrWK0HGROC",
        "outputId": "34fbe664-41a8-4cba-bd26-ccefd6e2c6f7"
      },
      "source": [
        "x=100\n",
        "y=\"Ryu\"\n",
        "print(type(x))\n",
        "print(type(y))"
      ],
      "execution_count": 7,
      "outputs": [
        {
          "output_type": "stream",
          "name": "stdout",
          "text": [
            "<class 'int'>\n",
            "<class 'str'>\n"
          ]
        }
      ]
    },
    {
      "cell_type": "code",
      "metadata": {
        "colab": {
          "base_uri": "https://localhost:8080/"
        },
        "id": "Sx3pMuMsGu0h",
        "outputId": "4bc34d1e-2b72-4427-e02c-b3af8b9ba646"
      },
      "source": [
        "x,y,z=7,8,9\n",
        "print(x)\n",
        "print(y)\n",
        "print(z)"
      ],
      "execution_count": 8,
      "outputs": [
        {
          "output_type": "stream",
          "name": "stdout",
          "text": [
            "7\n",
            "8\n",
            "9\n"
          ]
        }
      ]
    },
    {
      "cell_type": "code",
      "metadata": {
        "colab": {
          "base_uri": "https://localhost:8080/"
        },
        "id": "RFRMSDrQG6IZ",
        "outputId": "0fd0a3cc-fd40-40a8-c68d-79bf34c35eb0"
      },
      "source": [
        "x=y=z=20\n",
        "print(x)\n",
        "print(y)\n",
        "print(z)"
      ],
      "execution_count": 9,
      "outputs": [
        {
          "output_type": "stream",
          "name": "stdout",
          "text": [
            "20\n",
            "20\n",
            "20\n"
          ]
        }
      ]
    },
    {
      "cell_type": "code",
      "metadata": {
        "colab": {
          "base_uri": "https://localhost:8080/"
        },
        "id": "f1CTgmjmHWfq",
        "outputId": "3fb2c990-9d07-4388-ad28-2baf1f6f4187"
      },
      "source": [
        "x=\"enjoying\"\n",
        "print(\"programming is \"+x)"
      ],
      "execution_count": 10,
      "outputs": [
        {
          "output_type": "stream",
          "name": "stdout",
          "text": [
            "programming is enjoying\n"
          ]
        }
      ]
    },
    {
      "cell_type": "code",
      "metadata": {
        "colab": {
          "base_uri": "https://localhost:8080/"
        },
        "id": "6N8l6_dZHfGB",
        "outputId": "db210e1f-37b4-4427-bcb2-f254cdce256b"
      },
      "source": [
        "r=\"succeeded\"\n",
        "print(\"you have \"+r)"
      ],
      "execution_count": 12,
      "outputs": [
        {
          "output_type": "stream",
          "name": "stdout",
          "text": [
            "you have succeeded\n"
          ]
        }
      ]
    },
    {
      "cell_type": "code",
      "metadata": {
        "colab": {
          "base_uri": "https://localhost:8080/"
        },
        "id": "jV2KWf8CHqKa",
        "outputId": "6dc09513-fef5-4da5-d400-188a1cf92225"
      },
      "source": [
        "r=\"you have \"\n",
        "R=\"succeeded\"\n",
        "u=r+R\n",
        "print(u)"
      ],
      "execution_count": 13,
      "outputs": [
        {
          "output_type": "stream",
          "name": "stdout",
          "text": [
            "you have succeeded\n"
          ]
        }
      ]
    },
    {
      "cell_type": "code",
      "metadata": {
        "colab": {
          "base_uri": "https://localhost:8080/"
        },
        "id": "QqnAmtneH-ls",
        "outputId": "9b15f374-2422-4f15-caaf-42545256dd17"
      },
      "source": [
        "x=25\n",
        "y=65\n",
        "print(x+y)\n",
        "print(x-y)"
      ],
      "execution_count": 14,
      "outputs": [
        {
          "output_type": "stream",
          "name": "stdout",
          "text": [
            "90\n",
            "-40\n"
          ]
        }
      ]
    },
    {
      "cell_type": "code",
      "metadata": {
        "colab": {
          "base_uri": "https://localhost:8080/"
        },
        "id": "z0q_5pnvIPla",
        "outputId": "3fa7bbab-eaae-4571-b753-95640a039570"
      },
      "source": [
        "x+=5\n",
        "print(x)"
      ],
      "execution_count": 15,
      "outputs": [
        {
          "output_type": "stream",
          "name": "stdout",
          "text": [
            "30\n"
          ]
        }
      ]
    },
    {
      "cell_type": "code",
      "metadata": {
        "colab": {
          "base_uri": "https://localhost:8080/"
        },
        "id": "c3mKxkl-If2y",
        "outputId": "7822b95b-1431-446a-f0c5-e45867ac5181"
      },
      "source": [
        "y+=10\n",
        "print(y)"
      ],
      "execution_count": 16,
      "outputs": [
        {
          "output_type": "stream",
          "name": "stdout",
          "text": [
            "75\n"
          ]
        }
      ]
    },
    {
      "cell_type": "code",
      "metadata": {
        "colab": {
          "base_uri": "https://localhost:8080/"
        },
        "id": "r3eXhmARIn_y",
        "outputId": "dcfdcd4e-b66b-4d0b-8571-6177d376a27f"
      },
      "source": [
        "x==y"
      ],
      "execution_count": 17,
      "outputs": [
        {
          "output_type": "execute_result",
          "data": {
            "text/plain": [
              "False"
            ]
          },
          "metadata": {},
          "execution_count": 17
        }
      ]
    },
    {
      "cell_type": "code",
      "metadata": {
        "colab": {
          "base_uri": "https://localhost:8080/"
        },
        "id": "Ia6GlzHgIs0T",
        "outputId": "6aedee3f-a9f7-47b4-8c6f-9f749fb1938e"
      },
      "source": [
        "x!=y"
      ],
      "execution_count": 18,
      "outputs": [
        {
          "output_type": "execute_result",
          "data": {
            "text/plain": [
              "True"
            ]
          },
          "metadata": {},
          "execution_count": 18
        }
      ]
    },
    {
      "cell_type": "code",
      "metadata": {
        "colab": {
          "base_uri": "https://localhost:8080/"
        },
        "id": "b5-s44iDIxxb",
        "outputId": "46e6c7e5-4be7-4f45-b9b3-a5890c8d9c1d"
      },
      "source": [
        "x<100 and y>100"
      ],
      "execution_count": 19,
      "outputs": [
        {
          "output_type": "execute_result",
          "data": {
            "text/plain": [
              "False"
            ]
          },
          "metadata": {},
          "execution_count": 19
        }
      ]
    },
    {
      "cell_type": "code",
      "metadata": {
        "colab": {
          "base_uri": "https://localhost:8080/"
        },
        "id": "iSlvUJcWI_0C",
        "outputId": "57d9df6f-914d-4648-fdef-7a396e9e406e"
      },
      "source": [
        "x<100 or y>100"
      ],
      "execution_count": 20,
      "outputs": [
        {
          "output_type": "execute_result",
          "data": {
            "text/plain": [
              "True"
            ]
          },
          "metadata": {},
          "execution_count": 20
        }
      ]
    },
    {
      "cell_type": "code",
      "metadata": {
        "colab": {
          "base_uri": "https://localhost:8080/"
        },
        "id": "onnN28aqJDLK",
        "outputId": "7407ca64-97fe-4b43-c439-a40aa0e24312"
      },
      "source": [
        "not(x>100 and y>100)"
      ],
      "execution_count": 21,
      "outputs": [
        {
          "output_type": "execute_result",
          "data": {
            "text/plain": [
              "True"
            ]
          },
          "metadata": {},
          "execution_count": 21
        }
      ]
    },
    {
      "cell_type": "code",
      "metadata": {
        "colab": {
          "base_uri": "https://localhost:8080/"
        },
        "id": "5yNfD9TsJM2K",
        "outputId": "225e6f6e-af53-4426-daaf-912fc1d39abd"
      },
      "source": [
        "x is y"
      ],
      "execution_count": 22,
      "outputs": [
        {
          "output_type": "execute_result",
          "data": {
            "text/plain": [
              "False"
            ]
          },
          "metadata": {},
          "execution_count": 22
        }
      ]
    },
    {
      "cell_type": "code",
      "metadata": {
        "colab": {
          "base_uri": "https://localhost:8080/"
        },
        "id": "fO02msmkJONS",
        "outputId": "34f2c7c8-6f01-40c3-dea3-c44995176144"
      },
      "source": [
        "x is not y"
      ],
      "execution_count": 23,
      "outputs": [
        {
          "output_type": "execute_result",
          "data": {
            "text/plain": [
              "True"
            ]
          },
          "metadata": {},
          "execution_count": 23
        }
      ]
    }
  ]
}